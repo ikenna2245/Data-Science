{
 "cells": [
  {
   "cell_type": "code",
   "execution_count": 2,
   "metadata": {},
   "outputs": [],
   "source": [
    "import pandas as pd"
   ]
  },
  {
   "cell_type": "code",
   "execution_count": 3,
   "metadata": {},
   "outputs": [],
   "source": [
    "feb = pd.read_excel('./data/feb2020.xlsx', index_col=0)"
   ]
  },
  {
   "cell_type": "code",
   "execution_count": 6,
   "metadata": {},
   "outputs": [],
   "source": [
    "working_data = feb[['CR_AMT', 'trA_PARTICULAR', 'BDC', 'Payout Date']]"
   ]
  },
  {
   "cell_type": "code",
   "execution_count": 7,
   "metadata": {},
   "outputs": [
    {
     "name": "stderr",
     "output_type": "stream",
     "text": [
      "<ipython-input-7-a2b1e7230e7b>:1: SettingWithCopyWarning: \n",
      "A value is trying to be set on a copy of a slice from a DataFrame.\n",
      "Try using .loc[row_indexer,col_indexer] = value instead\n",
      "\n",
      "See the caveats in the documentation: https://pandas.pydata.org/pandas-docs/stable/user_guide/indexing.html#returning-a-view-versus-a-copy\n",
      "  working_data['is_BDC'] = working_data['BDC'].isnull()\n"
     ]
    }
   ],
   "source": [
    "working_data['is_BDC'] = working_data['BDC'].isnull()"
   ]
  },
  {
   "cell_type": "code",
   "execution_count": 8,
   "metadata": {},
   "outputs": [
    {
     "name": "stderr",
     "output_type": "stream",
     "text": [
      "<ipython-input-8-1880dc9f9b2b>:1: SettingWithCopyWarning: \n",
      "A value is trying to be set on a copy of a slice from a DataFrame.\n",
      "Try using .loc[row_indexer,col_indexer] = value instead\n",
      "\n",
      "See the caveats in the documentation: https://pandas.pydata.org/pandas-docs/stable/user_guide/indexing.html#returning-a-view-versus-a-copy\n",
      "  working_data['is_not_Paid'] = working_data['Payout Date'].isnull()\n"
     ]
    }
   ],
   "source": [
    "working_data['is_not_Paid'] = working_data['Payout Date'].isnull()"
   ]
  },
  {
   "cell_type": "code",
   "execution_count": 9,
   "metadata": {},
   "outputs": [],
   "source": [
    "data_BDC_is_null = working_data[working_data['is_BDC'] == True]\n",
    "data_BDC_not_null = working_data[working_data['is_BDC'] == False]"
   ]
  },
  {
   "cell_type": "code",
   "execution_count": 10,
   "metadata": {},
   "outputs": [],
   "source": [
    "data_BDC_is_null_count = data_BDC_is_null.groupby('trA_PARTICULAR')['trA_PARTICULAR'].count().reset_index(name='Total Transaction')\n",
    "data_BDC_is_null_count.to_excel('feb_data_BDC_is_null_count.xlsx')"
   ]
  },
  {
   "cell_type": "code",
   "execution_count": 11,
   "metadata": {},
   "outputs": [],
   "source": [
    "data_BDC_is_null_cr_amt = data_BDC_is_null.groupby('trA_PARTICULAR')['CR_AMT'].sum().reset_index(name='Total CR_AMT')\n",
    "data_BDC_is_null_cr_amt.to_excel('feb_data_BDC_is_null_cr_amt.xlsx')"
   ]
  },
  {
   "cell_type": "code",
   "execution_count": 12,
   "metadata": {},
   "outputs": [],
   "source": [
    "data_BDC_is_null_payout = data_BDC_is_null.groupby('trA_PARTICULAR')['Payout Date'].count().reset_index(name='Total Payout')\n",
    "data_BDC_is_null_payout.to_excel('feb_data_BDC_is_null_payout.xlsx')"
   ]
  },
  {
   "cell_type": "code",
   "execution_count": 13,
   "metadata": {},
   "outputs": [],
   "source": [
    "data_BDC_not_null_count = data_BDC_not_null.groupby('BDC')['BDC'].count().reset_index(name='Total Transaction')\n",
    "data_BDC_not_null_count.to_excel('feb_data_BDC_not_null_count.xlsx')"
   ]
  },
  {
   "cell_type": "code",
   "execution_count": 14,
   "metadata": {},
   "outputs": [],
   "source": [
    "data_BDC_not_null_cr_amt = data_BDC_not_null.groupby('BDC')['CR_AMT'].sum().reset_index(name='Total CR_AMT')\n",
    "data_BDC_not_null_cr_amt.to_excel('feb_data_BDC_not_null_cr_amt.xlsx')"
   ]
  },
  {
   "cell_type": "code",
   "execution_count": 15,
   "metadata": {},
   "outputs": [],
   "source": [
    "data_BDC_not_null_payout = data_BDC_not_null.groupby('BDC')['Payout Date'].count().reset_index(name='Total Payout')\n",
    "data_BDC_not_null_payout.to_excel('feb_data_BDC_not_null_payout.xlsx')"
   ]
  },
  {
   "cell_type": "code",
   "execution_count": 16,
   "metadata": {},
   "outputs": [],
   "source": [
    "data_BDC_is_null_not_paid = data_BDC_is_null.groupby('trA_PARTICULAR')['is_not_Paid'].sum().reset_index(name='Not Paid')\n",
    "data_BDC_is_null_not_paid.to_excel('feb_data_BDC_is_null_not_paid.xlsx')"
   ]
  },
  {
   "cell_type": "code",
   "execution_count": 17,
   "metadata": {},
   "outputs": [],
   "source": [
    "data_BDC_not_null_not_paid = data_BDC_not_null.groupby('BDC')['is_not_Paid'].sum().reset_index(name='Not Paid')\n",
    "data_BDC_not_null_not_paid.to_excel('feb_data_BDC_not_null_not_paid.xlsx')"
   ]
  }
 ],
 "metadata": {
  "kernelspec": {
   "display_name": "Python 3",
   "language": "python",
   "name": "python3"
  },
  "language_info": {
   "codemirror_mode": {
    "name": "ipython",
    "version": 3
   },
   "file_extension": ".py",
   "mimetype": "text/x-python",
   "name": "python",
   "nbconvert_exporter": "python",
   "pygments_lexer": "ipython3",
   "version": "3.8.5"
  }
 },
 "nbformat": 4,
 "nbformat_minor": 4
}
